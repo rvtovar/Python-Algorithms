{
 "cells": [
  {
   "cell_type": "code",
   "execution_count": 3,
   "id": "77158d08",
   "metadata": {},
   "outputs": [],
   "source": [
    "import sys\n",
    "from heapq import heapify, heappush, heappop\n",
    "\n",
    "graph ={\n",
    "    \"A\": {\"B\":2,\"C\":4},\n",
    "    \"B\": {'A':2,\"C\":3,\"D\":8},\n",
    "    \"C\": {\"A\":4, \"B\":3, \"E\":5, \"D\":2},\n",
    "    \"D\": {\"B\":8, \"C\":2, \"E\":11, \"F\":22},\n",
    "    \"E\": {\"C\":5, \"D\":11, \"F\":1},\n",
    "    \"F\": {\"D\":22, \"E\":1}\n",
    "}"
   ]
  },
  {
   "cell_type": "code",
   "execution_count": 10,
   "id": "a28b22d5",
   "metadata": {},
   "outputs": [],
   "source": [
    "def dijkstra(graph, src,dest):\n",
    "    inf = sys.maxsize\n",
    "    node_data = {}\n",
    "    for node in graph:\n",
    "        node_data[node] = {\n",
    "            'cost':inf,\n",
    "            'pred':[]\n",
    "        }\n",
    "    \n",
    "    \n",
    "    node_data[src]['cost'] = 0\n",
    "    visited = []\n",
    "    temp = src\n",
    "    \n",
    "    # to be completed in n - 1 steps\n",
    "    for _ in range(len(graph) -1):\n",
    "        #checking if we are visiting node\n",
    "        if temp not in visited:\n",
    "            visited.append(temp)\n",
    "            min_heap = []\n",
    "            \n",
    "            #going inside dict to look at neighbors\n",
    "            for j in graph[temp]:\n",
    "                #checking to see if its not been visited\n",
    "                if j not in visited:\n",
    "                    cost = node_data[temp]['cost'] + graph[temp][j]\n",
    "                    \n",
    "                    if cost < node_data[j]['cost']:\n",
    "                        node_data[j]['cost'] = cost\n",
    "                        node_data[j]['pred'] = node_data[temp]['pred'] + list(temp)\n",
    "                        \n",
    "                    #pushing item to heap\n",
    "                    heappush(min_heap, (node_data[j]['cost'],j))\n",
    "            #pushes smallest value to front of heap\n",
    "            heapify(min_heap)\n",
    "            \n",
    "            #make temp the new shortest distance from heap\n",
    "            temp = min_heap[0][1]\n",
    "    print(node_data)\n",
    "    print(\"Shortest Distance: \" + str(node_data[dest]['cost']))\n",
    "    print(\"Shortest Path \"  + str(node_data[dest]['pred'] + list(dest)))"
   ]
  },
  {
   "cell_type": "code",
   "execution_count": 11,
   "id": "69d8caf2",
   "metadata": {},
   "outputs": [
    {
     "name": "stdout",
     "output_type": "stream",
     "text": [
      "{'A': {'cost': 0, 'pred': []}, 'B': {'cost': 2, 'pred': ['A']}, 'C': {'cost': 4, 'pred': ['A']}, 'D': {'cost': 6, 'pred': ['A', 'C']}, 'E': {'cost': 9, 'pred': ['A', 'C']}, 'F': {'cost': 10, 'pred': ['A', 'C', 'E']}}\n",
      "Shortest Distance: 10\n",
      "Shortest Path ['A', 'C', 'E', 'F']\n"
     ]
    }
   ],
   "source": [
    "dijkstra(graph,\"A\",\"F\")"
   ]
  },
  {
   "cell_type": "code",
   "execution_count": null,
   "id": "60655e5f",
   "metadata": {},
   "outputs": [],
   "source": []
  }
 ],
 "metadata": {
  "kernelspec": {
   "display_name": "Python 3 (ipykernel)",
   "language": "python",
   "name": "python3"
  },
  "language_info": {
   "codemirror_mode": {
    "name": "ipython",
    "version": 3
   },
   "file_extension": ".py",
   "mimetype": "text/x-python",
   "name": "python",
   "nbconvert_exporter": "python",
   "pygments_lexer": "ipython3",
   "version": "3.9.7"
  }
 },
 "nbformat": 4,
 "nbformat_minor": 5
}
