{
 "cells": [
  {
   "cell_type": "code",
   "execution_count": 8,
   "id": "0744fcbd",
   "metadata": {},
   "outputs": [],
   "source": [
    "def caesar(text,s):\n",
    "    result = \"\"\n",
    "    for i in range(len(text)):\n",
    "        \n",
    "        char = text[i]\n",
    "        \n",
    "        #check if uppercase\n",
    "        \n",
    "        if char.isupper():\n",
    "            #updated character location\n",
    "            char_loc = ord(char) + s - 65\n",
    "            result += chr(char_loc % 26 + 65)\n",
    "        else:\n",
    "            char_loc = ord(char) + s - 97\n",
    "            result += chr(char_loc % 26 +97)\n",
    "    \n",
    "    return result"
   ]
  },
  {
   "cell_type": "code",
   "execution_count": 9,
   "id": "b5c881f5",
   "metadata": {},
   "outputs": [
    {
     "data": {
      "text/plain": [
       "'GIEWIVrGMTLIVrHIQS'"
      ]
     },
     "execution_count": 9,
     "metadata": {},
     "output_type": "execute_result"
    }
   ],
   "source": [
    "text = \"CEASER CIPHER DEMO\"\n",
    "s = 4\n",
    "\n",
    "caesar(text,s)"
   ]
  },
  {
   "cell_type": "code",
   "execution_count": 4,
   "id": "cfd20ffe",
   "metadata": {},
   "outputs": [
    {
     "data": {
      "text/plain": [
       "119"
      ]
     },
     "execution_count": 4,
     "metadata": {},
     "output_type": "execute_result"
    }
   ],
   "source": [
    "ord('w')"
   ]
  },
  {
   "cell_type": "code",
   "execution_count": 6,
   "id": "1b6952d0",
   "metadata": {},
   "outputs": [
    {
     "data": {
      "text/plain": [
       "22"
      ]
     },
     "execution_count": 6,
     "metadata": {},
     "output_type": "execute_result"
    }
   ],
   "source": [
    "119-97"
   ]
  },
  {
   "cell_type": "code",
   "execution_count": null,
   "id": "6bbd6d26",
   "metadata": {},
   "outputs": [],
   "source": []
  }
 ],
 "metadata": {
  "kernelspec": {
   "display_name": "Python 3 (ipykernel)",
   "language": "python",
   "name": "python3"
  },
  "language_info": {
   "codemirror_mode": {
    "name": "ipython",
    "version": 3
   },
   "file_extension": ".py",
   "mimetype": "text/x-python",
   "name": "python",
   "nbconvert_exporter": "python",
   "pygments_lexer": "ipython3",
   "version": "3.9.7"
  }
 },
 "nbformat": 4,
 "nbformat_minor": 5
}
