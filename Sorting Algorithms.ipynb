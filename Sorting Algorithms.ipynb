{
 "cells": [
  {
   "cell_type": "code",
   "execution_count": 13,
   "id": "a1e0125c",
   "metadata": {},
   "outputs": [],
   "source": [
    "nums = [5,3,8,6,7,2]\n",
    "\n",
    "def bubble_sort(arr):\n",
    "    for i in range(len(nums)-1,0,-1):\n",
    "        for j in range(i):\n",
    "            if nums[j] > nums[j+1]:\n",
    "                temp = nums[j]\n",
    "                nums[j] = nums[j+1]\n",
    "                nums[j+1] = temp\n",
    "                \n",
    "                \n",
    "bubble_sort(nums)"
   ]
  },
  {
   "cell_type": "code",
   "execution_count": 14,
   "id": "7d787ef3",
   "metadata": {},
   "outputs": [
    {
     "data": {
      "text/plain": [
       "[2, 3, 5, 6, 7, 8]"
      ]
     },
     "execution_count": 14,
     "metadata": {},
     "output_type": "execute_result"
    }
   ],
   "source": [
    "nums"
   ]
  },
  {
   "cell_type": "code",
   "execution_count": 5,
   "id": "cf0419a4",
   "metadata": {},
   "outputs": [],
   "source": [
    "arr"
   ]
  },
  {
   "cell_type": "code",
   "execution_count": 12,
   "id": "8387b1bb",
   "metadata": {},
   "outputs": [
    {
     "name": "stdout",
     "output_type": "stream",
     "text": [
      "[0, 1, 2, 3, 3, 4, 4, 4, 6, 7, 7]\n"
     ]
    }
   ],
   "source": [
    "# Merge Sort (Divide and Conquer Algorithm)\n",
    "arr_test = [2,3,5,1,7,4,4,4,3,6,0]\n",
    "def merge_sort(arr):\n",
    "    if len(arr) > 1:\n",
    "        #split array in half\n",
    "        left_arr = arr[:len(arr)//2]\n",
    "        right_arr = arr[len(arr)//2:]\n",
    "    \n",
    "        # recurseive \n",
    "        merge_sort(left_arr)\n",
    "        merge_sort(right_arr)\n",
    "        \n",
    "        # merge step\n",
    "        \n",
    "        i = 0 #left arr index\n",
    "        j = 0 #right arr index\n",
    "        k = 0 #merged array index\n",
    "        while i < len(left_arr) and j < len(right_arr):\n",
    "            if left_arr[i] < right_arr[j]:\n",
    "                arr[k] = left_arr[i]\n",
    "                i+=1\n",
    "            else:\n",
    "                arr[k] = right_arr[j]\n",
    "                j+=1\n",
    "            k+=1\n",
    "        \n",
    "        #nothing is left to compare left array to\n",
    "        while i < len(left_arr):\n",
    "            arr[k] = left_arr[i]\n",
    "            i+=1\n",
    "            k +=1\n",
    "            \n",
    "        #nothing is left to compare right array to\n",
    "        while j < len(right_arr):\n",
    "            arr[k] = right_arr[j]\n",
    "            j+=1\n",
    "            k+1\n",
    "            \n",
    "        \n",
    "\n",
    "merge_sort(arr_test)\n",
    "print(arr_test)\n",
    "    \n",
    "    "
   ]
  },
  {
   "cell_type": "code",
   "execution_count": null,
   "id": "66c0524d",
   "metadata": {},
   "outputs": [],
   "source": []
  }
 ],
 "metadata": {
  "kernelspec": {
   "display_name": "Python 3 (ipykernel)",
   "language": "python",
   "name": "python3"
  },
  "language_info": {
   "codemirror_mode": {
    "name": "ipython",
    "version": 3
   },
   "file_extension": ".py",
   "mimetype": "text/x-python",
   "name": "python",
   "nbconvert_exporter": "python",
   "pygments_lexer": "ipython3",
   "version": "3.9.7"
  }
 },
 "nbformat": 4,
 "nbformat_minor": 5
}
